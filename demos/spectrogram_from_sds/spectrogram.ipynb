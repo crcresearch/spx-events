{
 "cells": [
  {
   "cell_type": "code",
   "execution_count": null,
   "id": "dd7196e0-a6c8-48fe-9086-48993904ee36",
   "metadata": {},
   "outputs": [],
   "source": [
    "from spectrumx.client import Client\n",
    "\n",
    "# Create an SDK client to download DigitalRF data from the SDS\n",
    "sds = Client(\n",
    "    host=\"sds.crc.nd.edu\",\n",
    "    env_config={\"SDS_SECRET_TOKEN\": \"YOUR_SECRET_TOKEN\"},\n",
    ")\n",
    "sds.dry_run = False\n",
    "sds.authenticate()\n",
    "\n",
    "# download the DigitalRF data from the SDS\n",
    "results = sds.download(\n",
    "    from_sds_path=\"/YOUR_PATH\",\n",
    "    to_local_path=\"data\",\n",
    "    overwrite=False,\n",
    ")"
   ]
  },
  {
   "cell_type": "code",
   "execution_count": null,
   "id": "66e31219-9515-4cd0-ab1f-7272c1e3e5e5",
   "metadata": {},
   "outputs": [],
   "source": [
    "from digital_rf import DigitalRFReader\n",
    "import h5py\n",
    "import numpy as np\n",
    "import matplotlib.pyplot as plt\n",
    "from scipy.signal.windows import gaussian\n",
    "from scipy.signal import ShortTimeFFT\n",
    "from drf_plot import specgram_plot # make sure drf_plot.py is in the same folder as this code\n",
    "\n",
    "# set the data directory where the DigitalRF data is stored (top level)\n",
    "data_dir = \"data/files/YOUR_USERNAME/YOUR_PATH/\"\n",
    "\n",
    "reader = DigitalRFReader(data_dir)\n",
    "channels = reader.get_channels()\n",
    "\n",
    "for channel in channels:\n",
    "    print(f\"Processing channel: {channel}\")\n",
    "    start_sample, end_sample = reader.get_bounds(channel)\n",
    "\n",
    "    with h5py.File(f\"{data_dir}/{channel}/drf_properties.h5\", \"r\") as f:\n",
    "        sample_rate = f.attrs[\"sample_rate_numerator\"] / f.attrs[\"sample_rate_denominator\"]\n",
    "\n",
    "    num_samples = int(sample_rate * 2)\n",
    "    rf_data = reader.read_vector(start_sample, num_samples, channel)\n",
    "\n",
    "    # Compute spectrogram\n",
    "    window = gaussian(1000, std=100, sym=True)\n",
    "    fft_size = 1024\n",
    "    stfft = ShortTimeFFT(window, hop=500, fs=sample_rate, mfft=fft_size, fft_mode=\"centered\")\n",
    "    spectrogram = stfft.spectrogram(rf_data)\n",
    "\n",
    "    # Convert to dB\n",
    "    spectrogram_db = 10.0 * np.log10(spectrogram + 1e-12)\n",
    "\n",
    "    # Auto compute zscale using logic from drf_plot.py\n",
    "    Pss_ma = np.ma.masked_invalid(spectrogram_db)\n",
    "    zscale_low = 30\n",
    "    zscale_high = np.median(Pss_ma.max()) + 10.0\n",
    "    zscale = (zscale_low, zscale_high)\n",
    "    print(f\"zscale low: {zscale_low}\")\n",
    "    print(f\"zscale high: {zscale_high}\")\n",
    "    \n",
    "\n",
    "    # Create extent for plotting\n",
    "    extent = stfft.extent(num_samples)\n",
    "\n",
    "    specgram_plot(\n",
    "        data=spectrogram,\n",
    "        extent=extent,\n",
    "        log_scale=True,\n",
    "        zscale=zscale,\n",
    "        title=f\"Spectrogram - {channel}\"\n",
    "    )"
   ]
  },
  {
   "cell_type": "code",
   "execution_count": null,
   "id": "28307ac3-5473-4484-ad70-bf408c712943",
   "metadata": {},
   "outputs": [],
   "source": []
  }
 ],
 "metadata": {
  "kernelspec": {
   "display_name": "Python 3 (ipykernel)",
   "language": "python",
   "name": "python3"
  },
  "language_info": {
   "codemirror_mode": {
    "name": "ipython",
    "version": 3
   },
   "file_extension": ".py",
   "mimetype": "text/x-python",
   "name": "python",
   "nbconvert_exporter": "python",
   "pygments_lexer": "ipython3",
   "version": "3.12.10"
  }
 },
 "nbformat": 4,
 "nbformat_minor": 5
}
