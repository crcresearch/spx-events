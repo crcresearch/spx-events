{
    "cells": [
        {
            "cell_type": "markdown",
            "metadata": {},
            "source": [
                "# SpectrumX Data System | SDK Demo\n",
                "\n",
                "## Links\n",
                "\n",
                "+ [PyPI](https://pypi.org/project/spectrumx/)\n",
                "+ [GitHub Repo](https://github.com/spectrumx/sds-code/blob/master/sdk/)\n",
                "+ [SDS Key Generation](https://sds.crc.nd.edu/users/generate-api-key/)\n"
            ]
        },
        {
            "cell_type": "markdown",
            "metadata": {},
            "source": [
                "## Basic Usage\n"
            ]
        },
        {
            "cell_type": "markdown",
            "metadata": {},
            "source": [
                "### Client initialization"
            ]
        },
        {
            "cell_type": "code",
            "execution_count": 21,
            "metadata": {},
            "outputs": [
                {
                    "data": {
                        "text/plain": [
                            "'0.1.10'"
                        ]
                    },
                    "execution_count": 21,
                    "metadata": {},
                    "output_type": "execute_result"
                }
            ],
            "source": [
                "import spectrumx\n",
                "\n",
                "spectrumx.__version__\n"
            ]
        },
        {
            "cell_type": "code",
            "execution_count": 2,
            "metadata": {
                "vscode": {
                    "languageId": "shellscript"
                }
            },
            "outputs": [
                {
                    "name": "stdout",
                    "output_type": "stream",
                    "text": [
                        "Now edit the .env file to set your SDS_SECRET_TOKEN from:\n",
                        "https://sds.crc.nd.edu/users/generate-api-key/.\n"
                    ]
                }
            ],
            "source": [
                "%%bash\n",
                "if ! grep -q '^SDS_SECRET_TOKEN=' .env 2>/dev/null; then\n",
                "    echo \"SDS_SECRET_TOKEN=\" >> .env\n",
                "fi\n",
                "\n",
                "echo \"Now edit the .env file to set your SDS_SECRET_TOKEN from:\"\n",
                "echo \"https://sds.crc.nd.edu/users/generate-api-key/.\"\n"
            ]
        },
        {
            "cell_type": "code",
            "execution_count": 3,
            "metadata": {},
            "outputs": [
                {
                    "name": "stderr",
                    "output_type": "stream",
                    "text": [
                        "This version of the SDK is in early development. Expect breaking changes in the future.\n"
                    ]
                }
            ],
            "source": [
                "from spectrumx import Client\n",
                "from pathlib import Path\n",
                "\n",
                "SDS_HOST = \"sds.crc.nd.edu\"\n",
                "\n",
                "sds = Client(\n",
                "    host=SDS_HOST,\n",
                "    env_file=Path(\".env\"),  # default\n",
                ")\n"
            ]
        },
        {
            "cell_type": "markdown",
            "metadata": {},
            "source": [
                "### File uploads\n"
            ]
        },
        {
            "cell_type": "code",
            "execution_count": 4,
            "metadata": {},
            "outputs": [
                {
                    "name": "stderr",
                    "output_type": "stream",
                    "text": [
                        "Dry-run DISABLED: modifications are now possible.\n"
                    ]
                }
            ],
            "source": [
                "# when in dry-run (default), no changes are made to the SDS or the local filesystem\n",
                "# to enable the changes, set dry_run to False, as in:\n",
                "sds.dry_run = False\n"
            ]
        },
        {
            "cell_type": "code",
            "execution_count": 5,
            "metadata": {},
            "outputs": [],
            "source": [
                "# authenticate using either the token from\n",
                "# the .env file or in the config passed in\n",
                "\n",
                "# if you see errors here, check your .env file has the correct token, then\n",
                "# recreate the SDS client by running cell that creates the `sds` object again\n",
                "\n",
                "sds.authenticate()\n"
            ]
        },
        {
            "cell_type": "code",
            "execution_count": 6,
            "metadata": {},
            "outputs": [
                {
                    "name": "stdout",
                    "output_type": "stream",
                    "text": [
                        "\u001b[01;34mdata-samples/drf/westford-vpol\u001b[0m\n",
                        "└── \u001b[01;34mcap-2024-06-27T14-00-00\u001b[0m\n",
                        "    ├── \u001b[01;34m2024-06-27T14-00-00\u001b[0m\n",
                        "    │   ├── \u001b[00;90mindex.html.tmp\u001b[0m\n",
                        "    │   ├── rf@1719499740.000.h5\n",
                        "    │   ├── rf@1719499740.125.h5\n",
                        "    │   ├── rf@1719499740.250.h5\n",
                        "    │   ├── rf@1719499740.375.h5\n",
                        "    │   ├── rf@1719499740.500.h5\n",
                        "    │   ├── rf@1719499740.625.h5\n",
                        "    │   ├── rf@1719499740.750.h5\n",
                        "    │   ├── rf@1719499740.875.h5\n",
                        "    │   ├── rf@1719499741.000.h5\n",
                        "    │   ├── rf@1719499741.125.h5\n",
                        "    │   ├── rf@1719499741.250.h5\n",
                        "    │   ├── rf@1719499741.375.h5\n",
                        "    │   ├── rf@1719499741.500.h5\n",
                        "    │   ├── rf@1719499741.625.h5\n",
                        "    │   ├── rf@1719499741.750.h5\n",
                        "    │   └── rf@1719499741.875.h5\n",
                        "    ├── drf_properties.h5\n",
                        "    ├── \u001b[00;90mindex.html.tmp\u001b[0m\n",
                        "    └── \u001b[01;34mmetadata\u001b[0m\n",
                        "        ├── \u001b[01;34m2024-06-27T14-00-00\u001b[0m\n",
                        "        │   ├── \u001b[00;90mindex.html.tmp\u001b[0m\n",
                        "        │   └── metadata@1719499588.h5\n",
                        "        ├── dmd_properties.h5\n",
                        "        └── \u001b[00;90mindex.html.tmp\u001b[0m\n",
                        "\n",
                        "5 directories, 23 files\n"
                    ]
                }
            ],
            "source": [
                "# this local_dir has some sample data we can upload to SDS\n",
                "local_dir: Path = Path(\"./data-samples/drf/westford-vpol\")\n",
                "\n",
                "!tree \"{local_dir}\"\n"
            ]
        },
        {
            "cell_type": "markdown",
            "metadata": {},
            "source": [
                "#### Upload capture files to SDS"
            ]
        },
        {
            "cell_type": "code",
            "execution_count": 7,
            "metadata": {},
            "outputs": [
                {
                    "name": "stderr",
                    "output_type": "stream",
                    "text": [
                        "Dry-run DISABLED: modifications are now possible.\n"
                    ]
                }
            ],
            "source": [
                "# this is the path under your user directory in SDS, where those files will be uploaded\n",
                "sds_reference_path = \"/westford-vpol\"\n",
                "\n",
                "# we can optionally increase the logging to see what's happening\n",
                "#   - note this might cause progress bars to break visually.\n",
                "# spectrumx.enable_logging()\n",
                "\n",
                "# make sure dry-run is disabled\n",
                "sds.dry_run = False\n"
            ]
        },
        {
            "cell_type": "code",
            "execution_count": 8,
            "metadata": {},
            "outputs": [
                {
                    "name": "stderr",
                    "output_type": "stream",
                    "text": [
                        "Uploading: 23.0files [00:03, 6.35files/s]\n"
                    ]
                }
            ],
            "source": [
                "# upload the local files\n",
                "upload_results = sds.upload(\n",
                "    local_path=local_dir,  # may be a single file or a directory\n",
                "    sds_path=sds_reference_path,  # files will be created under this virtual directory\n",
                "    verbose=True,  # shows a progress bar (default)\n",
                ")\n"
            ]
        },
        {
            "cell_type": "markdown",
            "metadata": {},
            "source": [
                "#### Checking upload results\n",
                "\n",
                "The upload operation will NOT raise an exception if some files fail to upload,\n",
                "so it's important to check its results for any errors returned.\n",
                "\n",
                "This gives you more control over how you handle errors, such as retrying failed uploads or logging them for later review.\n"
            ]
        },
        {
            "cell_type": "code",
            "execution_count": 9,
            "metadata": {},
            "outputs": [
                {
                    "name": "stdout",
                    "output_type": "stream",
                    "text": [
                        "23 files uploaded successfully:\n",
                        "\t-              drf_properties.h5 of 2232 B\n",
                        "\t-                 index.html.tmp of 624 B\n",
                        "\t-                 index.html.tmp of 670877 B\n",
                        "\t-           rf@1719499740.000.h5 of 1257608 B\n",
                        "\t-           rf@1719499740.125.h5 of 1257608 B\n",
                        "\t-           rf@1719499740.250.h5 of 1257608 B\n",
                        "\t-           rf@1719499740.375.h5 of 1257608 B\n",
                        "\t-           rf@1719499740.500.h5 of 1257608 B\n",
                        "\t-           rf@1719499740.625.h5 of 1257608 B\n",
                        "\t-           rf@1719499740.750.h5 of 1257608 B\n",
                        "\t-           rf@1719499740.875.h5 of 1257608 B\n",
                        "\t-           rf@1719499741.000.h5 of 1257608 B\n",
                        "\t-           rf@1719499741.125.h5 of 1257608 B\n",
                        "\t-           rf@1719499741.250.h5 of 1257608 B\n",
                        "\t-           rf@1719499741.375.h5 of 1257608 B\n",
                        "\t-           rf@1719499741.500.h5 of 1257608 B\n",
                        "\t-           rf@1719499741.625.h5 of 1257608 B\n",
                        "\t-           rf@1719499741.750.h5 of 1257608 B\n",
                        "\t-           rf@1719499741.875.h5 of 1257608 B\n",
                        "\t-              dmd_properties.h5 of 4056 B\n",
                        "\t-                 index.html.tmp of 528 B\n",
                        "\t-                 index.html.tmp of 464 B\n",
                        "\t-         metadata@1719499588.h5 of 22840 B\n"
                    ]
                }
            ],
            "source": [
                "from spectrumx.models.files import File\n",
                "from spectrumx.errors import Result\n",
                "\n",
                "# successful results, in this context, wrap a `File` object\n",
                "# let's filter the successful results by:\n",
                "#   1. Evaluating their 'truthiness' (truth-y <=> success); and\n",
                "#   2. \"Unwrapping\" them with `res()` to get the `File` object:\n",
                "successful_files: list[File] = [res() for res in upload_results if res]\n",
                "\n",
                "# failed results wrap an exception.\n",
                "# NOTE: unwrapping failed results (`res()`) will raise their exception, so we just filter them:\n",
                "failed_results: list[Result] = [res for res in upload_results if not res]\n",
                "\n",
                "# optionally take action for failed uploads\n",
                "if failed_results:\n",
                "    print(f\"{len(failed_results)} files failed to upload:\")\n",
                "    for res in failed_results:\n",
                "        print(f\"\\t- {res.error_info}\")\n",
                "\n",
                "print(f\"{len(successful_files)} files uploaded successfully:\")\n",
                "\n",
                "for file_uploaded in successful_files:\n",
                "    print(f\"\\t- {file_uploaded.name:>30} of {file_uploaded.size} B\")\n"
            ]
        },
        {
            "cell_type": "markdown",
            "metadata": {},
            "source": [
                "#### Where are the uploaded files?"
            ]
        },
        {
            "cell_type": "code",
            "execution_count": 10,
            "metadata": {},
            "outputs": [
                {
                    "name": "stdout",
                    "output_type": "stream",
                    "text": [
                        "\t- /westford-vpol/cap-2024-06-27T14-00-00/drf_properties.h5\n",
                        "\t- /westford-vpol/cap-2024-06-27T14-00-00/index.html.tmp\n",
                        "\t- /westford-vpol/cap-2024-06-27T14-00-00/2024-06-27T14-00-00/index.html.tmp\n",
                        "\t- /westford-vpol/cap-2024-06-27T14-00-00/2024-06-27T14-00-00/rf@1719499740.000.h5\n",
                        "\t- /westford-vpol/cap-2024-06-27T14-00-00/2024-06-27T14-00-00/rf@1719499740.125.h5\n",
                        "\t- /westford-vpol/cap-2024-06-27T14-00-00/2024-06-27T14-00-00/rf@1719499740.250.h5\n",
                        "\t- /westford-vpol/cap-2024-06-27T14-00-00/2024-06-27T14-00-00/rf@1719499740.375.h5\n",
                        "\t- /westford-vpol/cap-2024-06-27T14-00-00/2024-06-27T14-00-00/rf@1719499740.500.h5\n",
                        "\t- /westford-vpol/cap-2024-06-27T14-00-00/2024-06-27T14-00-00/rf@1719499740.625.h5\n",
                        "\t- /westford-vpol/cap-2024-06-27T14-00-00/2024-06-27T14-00-00/rf@1719499740.750.h5\n",
                        "\t- /westford-vpol/cap-2024-06-27T14-00-00/2024-06-27T14-00-00/rf@1719499740.875.h5\n",
                        "\t- /westford-vpol/cap-2024-06-27T14-00-00/2024-06-27T14-00-00/rf@1719499741.000.h5\n",
                        "\t- /westford-vpol/cap-2024-06-27T14-00-00/2024-06-27T14-00-00/rf@1719499741.125.h5\n",
                        "\t- /westford-vpol/cap-2024-06-27T14-00-00/2024-06-27T14-00-00/rf@1719499741.250.h5\n",
                        "\t- /westford-vpol/cap-2024-06-27T14-00-00/2024-06-27T14-00-00/rf@1719499741.375.h5\n",
                        "\t- /westford-vpol/cap-2024-06-27T14-00-00/2024-06-27T14-00-00/rf@1719499741.500.h5\n",
                        "\t- /westford-vpol/cap-2024-06-27T14-00-00/2024-06-27T14-00-00/rf@1719499741.625.h5\n",
                        "\t- /westford-vpol/cap-2024-06-27T14-00-00/2024-06-27T14-00-00/rf@1719499741.750.h5\n",
                        "\t- /westford-vpol/cap-2024-06-27T14-00-00/2024-06-27T14-00-00/rf@1719499741.875.h5\n",
                        "\t- /westford-vpol/cap-2024-06-27T14-00-00/metadata/dmd_properties.h5\n",
                        "\t- /westford-vpol/cap-2024-06-27T14-00-00/metadata/index.html.tmp\n",
                        "\t- /westford-vpol/cap-2024-06-27T14-00-00/metadata/2024-06-27T14-00-00/index.html.tmp\n",
                        "\t- /westford-vpol/cap-2024-06-27T14-00-00/metadata/2024-06-27T14-00-00/metadata@1719499588.h5\n"
                    ]
                }
            ],
            "source": [
                "for file_uploaded in successful_files:\n",
                "    print(f\"\\t- {file_uploaded.path!s:>30}\")\n"
            ]
        },
        {
            "cell_type": "markdown",
            "metadata": {},
            "source": [
                "Notice they're all under the `/westford-vpol/` directory: our `sds_reference_path` of earlier."
            ]
        },
        {
            "cell_type": "markdown",
            "metadata": {},
            "source": [
                "### File Downloads\n",
                "\n",
                "Maybe you'd like to download the files to a different machine. Here we'll go through\n",
                "this process:\n"
            ]
        },
        {
            "cell_type": "code",
            "execution_count": 11,
            "metadata": {},
            "outputs": [
                {
                    "name": "stderr",
                    "output_type": "stream",
                    "text": [
                        "Downloading: 'index.html.tmp': 100%|\u001b[32m██████████████████████████████████████████████████████████████████████████████████████████████████████████████████████████████████████████████████████████████████████████████████████████████████████████████████████████████████████████████████████████████████████████████████████████████████████████████████████████████████████████████████████████████████████████████████████████████████████████████████████████████████████████████████████████████████████████████████████████████████████████████████████████████████████████████████████████████████████████████████████████████████████████████████████████████████████████████████████████████████████████████████████████████████████████████████████████████████████████████████████\u001b[0m| 23.0/23.0 [00:16<00:00, 1.37files/s]\u001b[0m"
                    ]
                },
                {
                    "name": "stdout",
                    "output_type": "stream",
                    "text": [
                        "\u001b[01;34msds-downloads\u001b[0m\n",
                        "└── \u001b[01;34mfiles\u001b[0m\n",
                        "    └── \u001b[01;34msds@parza.dev\u001b[0m\n",
                        "        └── \u001b[01;34mwestford-vpol\u001b[0m\n",
                        "            └── \u001b[01;34mcap-2024-06-27T14-00-00\u001b[0m\n",
                        "                ├── \u001b[01;34m2024-06-27T14-00-00\u001b[0m\n",
                        "                │   ├── \u001b[00;90mindex.html.tmp\u001b[0m\n",
                        "                │   ├── rf@1719499740.000.h5\n",
                        "                │   ├── rf@1719499740.125.h5\n",
                        "                │   ├── rf@1719499740.250.h5\n",
                        "                │   ├── rf@1719499740.375.h5\n",
                        "                │   ├── rf@1719499740.500.h5\n",
                        "                │   ├── rf@1719499740.625.h5\n",
                        "                │   ├── rf@1719499740.750.h5\n",
                        "                │   ├── rf@1719499740.875.h5\n",
                        "                │   ├── rf@1719499741.000.h5\n",
                        "                │   ├── rf@1719499741.125.h5\n",
                        "                │   ├── rf@1719499741.250.h5\n",
                        "                │   ├── rf@1719499741.375.h5\n",
                        "                │   ├── rf@1719499741.500.h5\n",
                        "                │   ├── rf@1719499741.625.h5\n",
                        "                │   ├── rf@1719499741.750.h5\n",
                        "                │   └── rf@1719499741.875.h5\n",
                        "                ├── drf_properties.h5\n",
                        "                ├── \u001b[00;90mindex.html.tmp\u001b[0m\n",
                        "                └── \u001b[01;34mmetadata\u001b[0m\n",
                        "                    ├── \u001b[01;34m2024-06-27T14-00-00\u001b[0m\n",
                        "                    │   ├── \u001b[00;90mindex.html.tmp\u001b[0m\n",
                        "                    │   └── metadata@1719499588.h5\n",
                        "                    ├── dmd_properties.h5\n",
                        "                    └── \u001b[00;90mindex.html.tmp\u001b[0m\n",
                        "\n",
                        "8 directories, 23 files\n"
                    ]
                },
                {
                    "name": "stderr",
                    "output_type": "stream",
                    "text": [
                        "\n"
                    ]
                }
            ],
            "source": [
                "# download the files from an SDS directory\n",
                "local_downloads = Path(\"sds-downloads\")\n",
                "download_results = sds.download(\n",
                "    from_sds_path=sds_reference_path,  # files will be downloaded from this virtual dir\n",
                "    to_local_path=local_downloads,  # download to this location (it may be created)\n",
                "    overwrite=True,  # do not overwrite local existing files (default)\n",
                "    verbose=True,  # shows a progress bar (default)\n",
                ")\n",
                "\n",
                "!tree \"sds-downloads\"\n"
            ]
        },
        {
            "cell_type": "code",
            "execution_count": 12,
            "metadata": {},
            "outputs": [
                {
                    "name": "stdout",
                    "output_type": "stream",
                    "text": [
                        "23 files downloaded successfully:\n",
                        "\t- 7ade2030-4f21-44e5-8f6d-7053c4d519d4: index.html.tmp of 670877 B\n",
                        "\t- 2aa82596-9b02-4cbd-933b-a9597990bdcd: rf@1719499740.000.h5 of 1257608 B\n",
                        "\t- ac2bbd82-786b-4173-a918-34869c897284: rf@1719499740.125.h5 of 1257608 B\n",
                        "\t- e2fb3490-f15d-4ccd-8511-90316e3425c1: rf@1719499740.250.h5 of 1257608 B\n",
                        "\t- e38ecb28-2855-42f7-b2ab-28ced3691914: rf@1719499740.375.h5 of 1257608 B\n",
                        "\t- 967ffd61-097b-4491-8dbf-6d915152fd32: rf@1719499740.500.h5 of 1257608 B\n",
                        "\t- e427952c-a402-4d83-bd39-979a720eea65: rf@1719499740.625.h5 of 1257608 B\n",
                        "\t- f03b3477-3b1e-40f1-bc5c-d2e0e381dfa2: rf@1719499740.750.h5 of 1257608 B\n",
                        "\t- 0a574fbd-a857-4511-b411-e54af1782698: rf@1719499740.875.h5 of 1257608 B\n",
                        "\t- 51ccbc22-c8fa-4bd7-9e1c-e53c76bfece5: rf@1719499741.000.h5 of 1257608 B\n",
                        "\t- cc104469-3b7c-4eea-b5bc-4c4f0da838c5: rf@1719499741.125.h5 of 1257608 B\n",
                        "\t- 9696974f-21b8-4ee4-826e-2673dd6eb372: rf@1719499741.250.h5 of 1257608 B\n",
                        "\t- ec391eab-ceac-4887-971f-910436098b08: rf@1719499741.375.h5 of 1257608 B\n",
                        "\t- 20e48c16-b64b-470f-8c38-5ba6f4362ba9: rf@1719499741.500.h5 of 1257608 B\n",
                        "\t- e9dd88b5-8ae0-47e6-9540-d16b8e85f62b: rf@1719499741.625.h5 of 1257608 B\n",
                        "\t- 66986897-9aff-4ede-952b-2b6aaeda55fc: rf@1719499741.750.h5 of 1257608 B\n",
                        "\t- 2005c75b-d2d0-4a70-aa02-947c275d54ab: rf@1719499741.875.h5 of 1257608 B\n",
                        "\t- 23d257c5-e784-4264-8951-c02cf6bc3237: drf_properties.h5 of 2232 B\n",
                        "\t- 9dfe5864-056a-4806-bfe0-efded3450bef: index.html.tmp of 624 B\n",
                        "\t- 4d2b931c-fc17-4c6d-8efe-e26f7238ac41: index.html.tmp of 464 B\n",
                        "\t- f8aea719-7b8e-4adb-a122-30b8ad71ed5b: metadata@1719499588.h5 of 22840 B\n",
                        "\t- 802dbf4d-cc66-4234-9588-e6d0f44b8e66: dmd_properties.h5 of 4056 B\n",
                        "\t- add30cfd-44b1-4ba6-a411-6462ed48bf14: index.html.tmp of 528 B\n"
                    ]
                }
            ],
            "source": [
                "from spectrumx.models.files import File\n",
                "\n",
                "# Once again, we have a list of results that may either wrap\n",
                "#   a `File` object (success) or an exception (failure)\n",
                "\n",
                "# let's filter the successful results and unwrap them:\n",
                "successful_files: list[File] = [res() for res in download_results if res]\n",
                "\n",
                "# then just filter the failed results:\n",
                "failed_results: list[Result] = [res for res in download_results if not res]\n",
                "\n",
                "# optionally take action for failed uploads\n",
                "if failed_results:\n",
                "    print(f\"{len(failed_results)} files failed to download:\")\n",
                "    for res in failed_results:\n",
                "        print(f\"\\t- {res.error_info}\")\n",
                "\n",
                "print(f\"{len(successful_files)} files downloaded successfully:\")\n",
                "\n",
                "for file_downloaded in successful_files:\n",
                "    print(\n",
                "        f\"\\t- {file_downloaded.uuid}: {file_downloaded.name} of {file_downloaded.size} B\"\n",
                "    )\n"
            ]
        },
        {
            "cell_type": "markdown",
            "metadata": {},
            "source": [
                "Notice that file paths (file directory + names) may change and not be unique, but UUIDs\n",
                "will persist. Use this UUID to reference a specific file version in SDS.\n"
            ]
        },
        {
            "cell_type": "markdown",
            "metadata": {},
            "source": [
                "### File Listing\n",
                "\n",
                "This is a very useful feature of the SDK to visualize the files in a directory, recursively.\n"
            ]
        },
        {
            "cell_type": "code",
            "execution_count": 13,
            "metadata": {},
            "outputs": [],
            "source": [
                "# gets a list of SDS files in a directory, without downloading them\n",
                "from spectrumx.ops.pagination import Paginator\n",
                "\n",
                "files_generator: Paginator[File] = sds.list_files(sds_path=sds_reference_path)\n"
            ]
        },
        {
            "cell_type": "code",
            "execution_count": 14,
            "metadata": {},
            "outputs": [
                {
                    "name": "stdout",
                    "output_type": "stream",
                    "text": [
                        "Iterating over the file generator:\n",
                        "\t'dir=/files/sds@parza.dev/westford-vpol/cap-2024-06-27T14-00-00/2024-06-27T14-00-00' | name='index.html.tmp' | created_at=2025-06-12 08:23:04\n",
                        "\t'dir=/files/sds@parza.dev/westford-vpol/cap-2024-06-27T14-00-00/2024-06-27T14-00-00' | name='rf@1719499740.000.h5' | created_at=2025-06-12 08:23:04\n",
                        "\t'dir=/files/sds@parza.dev/westford-vpol/cap-2024-06-27T14-00-00/2024-06-27T14-00-00' | name='rf@1719499740.125.h5' | created_at=2025-06-12 08:23:05\n",
                        "\t'dir=/files/sds@parza.dev/westford-vpol/cap-2024-06-27T14-00-00/2024-06-27T14-00-00' | name='rf@1719499740.250.h5' | created_at=2025-06-12 08:23:05\n",
                        "\t'dir=/files/sds@parza.dev/westford-vpol/cap-2024-06-27T14-00-00/2024-06-27T14-00-00' | name='rf@1719499740.375.h5' | created_at=2025-06-12 08:23:06\n",
                        "\t'dir=/files/sds@parza.dev/westford-vpol/cap-2024-06-27T14-00-00/2024-06-27T14-00-00' | name='rf@1719499740.500.h5' | created_at=2025-06-12 08:23:07\n",
                        "\t'dir=/files/sds@parza.dev/westford-vpol/cap-2024-06-27T14-00-00/2024-06-27T14-00-00' | name='rf@1719499740.625.h5' | created_at=2025-06-12 08:23:07\n",
                        "\t>> Stopping early <<\n"
                    ]
                }
            ],
            "source": [
                "print(\"Iterating over the file generator:\")\n",
                "for file_index, file_entry in enumerate(files_generator):\n",
                "    print(\n",
                "        f\"\\t'dir={file_entry.directory}' | name='{file_entry.name}' | created_at={file_entry.created_at}\"\n",
                "    )\n",
                "    # do_something_with_the_file(file_entry)\n",
                "    if file_index > 5:\n",
                "        print(\"\\t>> Stopping early <<\")\n",
                "        break\n"
            ]
        },
        {
            "cell_type": "markdown",
            "metadata": {},
            "source": [
                "Note that the returned list of files is a (lazy) **generator**, and it is consumed after\n",
                "the first iteration.\n",
                "\n",
                "This has some benefits:\n",
                "  1. Avoids loading all file metadata in **memory** at once;\n",
                "  2. Reduces the **time** for the first page of files; and\n",
                "  3. Avoids making more server **requests** than necessary, while spacing them out.\n"
            ]
        },
        {
            "cell_type": "code",
            "execution_count": 15,
            "metadata": {},
            "outputs": [
                {
                    "name": "stdout",
                    "output_type": "stream",
                    "text": [
                        "The next files:\n",
                        "\tProcessing rf@1719499740.750.h5 of size 1257608 B...\n",
                        "\tProcessing rf@1719499740.875.h5 of size 1257608 B...\n",
                        "\tProcessing rf@1719499741.000.h5 of size 1257608 B...\n",
                        "\n"
                    ]
                }
            ],
            "source": [
                "# If you need to iterate over the files multiple times, you\n",
                "# can get the next N files from the generator into a list:\n",
                "num_files: int = 3\n",
                "up_to_three_files: list[File] = []\n",
                "for _ in range(num_files):\n",
                "    try:\n",
                "        up_to_three_files.append(next(files_generator))\n",
                "    except StopIteration:\n",
                "        break  # no more to list; we have less than `num_files` files\n",
                "\n",
                "print(\"The next files:\")\n",
                "for file_entry in up_to_three_files:\n",
                "    print(f\"\\tProcessing {file_entry.name} of size {file_entry.size} B...\")\n",
                "print()\n"
            ]
        },
        {
            "cell_type": "markdown",
            "metadata": {},
            "source": [
                "## Operating on RF Captures\n",
                "\n",
                "Captures are groups of radio-frequency files that make sense together. For example, a\n",
                "group of Digital RF files that belong to the same channel may be part of a capture.\n"
            ]
        },
        {
            "cell_type": "code",
            "execution_count": 16,
            "metadata": {},
            "outputs": [
                {
                    "name": "stdout",
                    "output_type": "stream",
                    "text": [
                        "\u001b[01;34m/home/lucas/demos/crc/spectrumx/spx-events/demos/data_system/data-samples/drf/westford-vpol\u001b[0m\n",
                        "└── \u001b[01;34mcap-2024-06-27T14-00-00\u001b[0m\n",
                        "    ├── \u001b[01;34m2024-06-27T14-00-00\u001b[0m\n",
                        "    │   ├── \u001b[00;90mindex.html.tmp\u001b[0m\n",
                        "    │   ├── rf@1719499740.000.h5\n",
                        "    │   ├── rf@1719499740.125.h5\n",
                        "    │   ├── rf@1719499740.250.h5\n",
                        "    │   ├── rf@1719499740.375.h5\n",
                        "    │   ├── rf@1719499740.500.h5\n",
                        "    │   ├── rf@1719499740.625.h5\n",
                        "    │   ├── rf@1719499740.750.h5\n",
                        "    │   ├── rf@1719499740.875.h5\n",
                        "    │   ├── rf@1719499741.000.h5\n",
                        "    │   ├── rf@1719499741.125.h5\n",
                        "    │   ├── rf@1719499741.250.h5\n",
                        "    │   ├── rf@1719499741.375.h5\n",
                        "    │   ├── rf@1719499741.500.h5\n",
                        "    │   ├── rf@1719499741.625.h5\n",
                        "    │   ├── rf@1719499741.750.h5\n",
                        "    │   └── rf@1719499741.875.h5\n",
                        "    ├── drf_properties.h5\n",
                        "    ├── \u001b[00;90mindex.html.tmp\u001b[0m\n",
                        "    └── \u001b[01;34mmetadata\u001b[0m\n",
                        "        ├── \u001b[01;34m2024-06-27T14-00-00\u001b[0m\n",
                        "        │   ├── \u001b[00;90mindex.html.tmp\u001b[0m\n",
                        "        │   └── metadata@1719499588.h5\n",
                        "        ├── dmd_properties.h5\n",
                        "        └── \u001b[00;90mindex.html.tmp\u001b[0m\n",
                        "\n",
                        "5 directories, 23 files\n"
                    ]
                }
            ],
            "source": [
                "capture_dir = Path(\"./data-samples/drf/westford-vpol/\").resolve()\n",
                "channel_name = \"cap-2024-06-27T14-00-00\"\n",
                "\n",
                "!tree \"{capture_dir}\"\n"
            ]
        },
        {
            "cell_type": "markdown",
            "metadata": {},
            "source": [
                "Upload these files to SDS\n"
            ]
        },
        {
            "cell_type": "code",
            "execution_count": 17,
            "metadata": {},
            "outputs": [],
            "source": [
                "# (if not already done)\n",
                "# _ = sds.upload(\n",
                "#     local_path=capture_dir,\n",
                "#     sds_path=sds_reference_path,\n",
                "#     verbose=True,\n",
                "# )\n"
            ]
        },
        {
            "cell_type": "markdown",
            "metadata": {},
            "source": [
                "### Creating a Capture\n"
            ]
        },
        {
            "cell_type": "code",
            "execution_count": null,
            "metadata": {},
            "outputs": [],
            "source": [
                "from spectrumx.models.captures import Capture\n",
                "from spectrumx.models.captures import CaptureType\n",
                "from pathlib import PurePosixPath\n",
                "\n",
                "drf_capture: Capture = sds.captures.create(\n",
                "    capture_type=CaptureType.DigitalRF,\n",
                "    channel=channel_name,\n",
                "    top_level_dir=PurePosixPath(sds_reference_path),\n",
                ")\n"
            ]
        },
        {
            "cell_type": "code",
            "execution_count": null,
            "metadata": {},
            "outputs": [
                {
                    "name": "stdout",
                    "output_type": "stream",
                    "text": [
                        "Digital-RF capture created with ID 21ef8605-28d9-4266-beab-2429d327d965\n",
                        "Capture(uuid=21ef8605-28d9-4266-beab-2429d327d965, type=drf, files=19, created_at=2025-06-12 08:50:56.038266-04:00)\n",
                        "    samples_per_second                   : 2500000\n",
                        "    start_bound                          : 1719499740\n",
                        "    end_bound                            : 1719499741\n",
                        "    is_complex                           : True\n",
                        "    is_continuous                        : True\n",
                        "    epoch                                : 1970-01-01T00:00:00Z\n",
                        "    digital_rf_time_description          : All times in this format are in number of samples since the epoch in the epoch attribute.  The first sample time will be sample_rate * UTC time at first sample.  Attribute init_utc_timestamp records this init UTC time so that a conversion to any other time is possible given the number of leapseconds difference at init_utc_timestamp.  Leapseconds that occur during data recording are included in the data.\n",
                        "    digital_rf_version                   : 2.6.0\n",
                        "    uuid_str                             : 15f2dcff1f2a43278a0f5175a356df3a\n",
                        "    center_frequencies                   : [1024000000.4842604]\n",
                        "    custom_attrs:\n",
                        "        num_subchannels                      : 1\n",
                        "        index                                : 4298748970000000\n",
                        "        processing/channelizer_filter_taps   : []\n",
                        "        processing/decimation                : 1\n",
                        "        processing/interpolation             : 1\n",
                        "        processing/resampling_filter_taps    : []\n",
                        "        processing/scaling                   : 1.0\n",
                        "        receiver/antenna                     : RX2\n",
                        "        receiver/bandwidth                   : 100000000.0\n",
                        "        receiver/center_freq                 : 1024000000.4842604\n",
                        "        receiver/clock_rate                  : 125000000.0\n",
                        "        receiver/clock_source                : external\n",
                        "        receiver/dc_offset                   : False\n",
                        "        receiver/description                 : UHD USRP source using GNU Radio\n",
                        "        receiver/gain                        : 40.0\n",
                        "        receiver/id                          : 172.16.20.43\n",
                        "        receiver/info/mboard_id              : n310\n",
                        "        receiver/info/mboard_name            : n/a\n",
                        "        receiver/info/mboard_serial          : 31649FE\n",
                        "        receiver/info/rx_antenna             : RX2\n",
                        "        receiver/info/rx_id                  : 336\n",
                        "        receiver/info/rx_serial              : 3162222\n",
                        "        receiver/info/rx_subdev_name         : Magnesium\n",
                        "        receiver/info/rx_subdev_spec         : A:0 A:1\n",
                        "        receiver/iq_balance                  : \n",
                        "        receiver/lo_export                   : \n",
                        "        receiver/lo_offset                   : 624999.4039535522\n",
                        "        receiver/lo_source                   : \n",
                        "        receiver/otw_format                  : sc16\n",
                        "        receiver/samp_rate                   : 2500000.0\n",
                        "        receiver/stream_args                 : \n",
                        "        receiver/subdev                      : A:0\n",
                        "        receiver/time_source                 : external\n",
                        "\n",
                        "\n"
                    ]
                }
            ],
            "source": [
                "from typing import Any\n",
                "\n",
                "print(f\"Digital-RF capture created with ID {drf_capture.uuid}\")\n",
                "print(drf_capture)\n",
                "\n",
                "\n",
                "def pretty_print_dict(data: dict[str, Any], indent: int = 0) -> None:\n",
                "    \"\"\"Recursively pretty-prints a dict with indentation.\"\"\"\n",
                "    for key, value in data.items():\n",
                "        prefix = \"    \" * indent\n",
                "        if isinstance(value, dict):\n",
                "            print(f\"{prefix}{key}:\")\n",
                "            pretty_print_dict(value, indent=indent + 1)\n",
                "        else:\n",
                "            print(f\"{prefix}{key!s:<37}: {value}\")\n",
                "    print()\n",
                "\n",
                "\n",
                "pretty_print_dict(data=drf_capture.capture_props, indent=1)\n"
            ]
        },
        {
            "cell_type": "markdown",
            "metadata": {},
            "source": [
                "### Listing user's Captures\n"
            ]
        },
        {
            "cell_type": "code",
            "execution_count": 19,
            "metadata": {},
            "outputs": [
                {
                    "name": "stdout",
                    "output_type": "stream",
                    "text": [
                        "Capture 21ef8605-28d9-4266-beab-2429d327d965: cap-2024-06-27T14-00-00 ({'samples_per_second': 2500000, 'start_bound': 1719499740, 'end_bound': 1719499741, 'is_complex': True, 'is_continuous': True, 'epoch': '1970-01-01T00:00:00Z', 'digital_rf_time_description': 'All times in this format are in number of samples since the epoch in the epoch attribute.  The first sample time will be sample_rate * UTC time at first sample.  Attribute init_utc_timestamp records this init UTC time so that a conversion to any other time is possible given the number of leapseconds difference at init_utc_timestamp.  Leapseconds that occur during data recording are included in the data.', 'digital_rf_version': '2.6.0', 'uuid_str': '15f2dcff1f2a43278a0f5175a356df3a', 'center_frequencies': [1024000000.4842604], 'custom_attrs': {'num_subchannels': 1, 'index': 4298748970000000, 'processing/channelizer_filter_taps': [], 'processing/decimation': 1, 'processing/interpolation': 1, 'processing/resampling_filter_taps': [], 'processing/scaling': 1.0, 'receiver/antenna': 'RX2', 'receiver/bandwidth': 100000000.0, 'receiver/center_freq': 1024000000.4842604, 'receiver/clock_rate': 125000000.0, 'receiver/clock_source': 'external', 'receiver/dc_offset': False, 'receiver/description': 'UHD USRP source using GNU Radio', 'receiver/gain': 40.0, 'receiver/id': '172.16.20.43', 'receiver/info/mboard_id': 'n310', 'receiver/info/mboard_name': 'n/a', 'receiver/info/mboard_serial': '31649FE', 'receiver/info/rx_antenna': 'RX2', 'receiver/info/rx_id': '336', 'receiver/info/rx_serial': '3162222', 'receiver/info/rx_subdev_name': 'Magnesium', 'receiver/info/rx_subdev_spec': 'A:0 A:1', 'receiver/iq_balance': '', 'receiver/lo_export': '', 'receiver/lo_offset': 624999.4039535522, 'receiver/lo_source': '', 'receiver/otw_format': 'sc16', 'receiver/samp_rate': 2500000.0, 'receiver/stream_args': '', 'receiver/subdev': 'A:0', 'receiver/time_source': 'external'}})\n",
                        "Capture 636bdb0d-40ef-40f9-8ad8-8590f3e43cf0: cap-2024-06-27T14-00-00 ({'samples_per_second': 2500000, 'start_bound': 1719499740, 'end_bound': 1719499741, 'is_complex': True, 'is_continuous': True, 'center_freq': 1024000000, 'bandwidth': 100000000, 'custom_attrs': {'num_subchannels': 1, 'index': 4298748970000000, 'processing/channelizer_filter_taps': [], 'processing/decimation': 1, 'processing/interpolation': 1, 'processing/resampling_filter_taps': [], 'processing/scaling': 1.0, 'receiver/center_freq': 1024000000.4842604, 'receiver/clock_rate': 125000000.0, 'receiver/clock_source': 'external', 'receiver/dc_offset': False, 'receiver/description': 'UHD USRP source using GNU Radio', 'receiver/id': '172.16.20.43', 'receiver/info/mboard_id': 'n310', 'receiver/info/mboard_name': 'n/a', 'receiver/info/mboard_serial': '31649FE', 'receiver/info/rx_antenna': 'RX2', 'receiver/info/rx_id': '336', 'receiver/info/rx_serial': '3162222', 'receiver/info/rx_subdev_name': 'Magnesium', 'receiver/info/rx_subdev_spec': 'A:0 A:1', 'receiver/iq_balance': '', 'receiver/lo_export': '', 'receiver/lo_offset': 624999.4039535522, 'receiver/lo_source': '', 'receiver/otw_format': 'sc16', 'receiver/samp_rate': 2500000.0, 'receiver/stream_args': '', 'receiver/subdev': 'A:0', 'receiver/time_source': 'external'}})\n"
                    ]
                }
            ],
            "source": [
                "cap_list: list[Capture] = sds.captures.listing(capture_type=CaptureType.DigitalRF)\n",
                "if not cap_list:\n",
                "    print(\"No captures found.\")\n",
                "for capture in cap_list:\n",
                "    print(f\"Capture {capture.uuid}: {capture.channel} ({capture.capture_props})\")\n"
            ]
        },
        {
            "cell_type": "markdown",
            "metadata": {},
            "source": [
                "\"Reading\" a specific capture will give us the files associated with it:\n"
            ]
        },
        {
            "cell_type": "code",
            "execution_count": 20,
            "metadata": {},
            "outputs": [
                {
                    "name": "stdout",
                    "output_type": "stream",
                    "text": [
                        "\tf8aea719-7b8e-4adb-a122-30b8ad71ed5b: metadata@1719499588.h5 in /files/sds@parza.dev/westford-vpol/cap-2024-06-27T14-00-00/metadata/2024-06-27T14-00-00\n",
                        "\t23d257c5-e784-4264-8951-c02cf6bc3237: drf_properties.h5 in /files/sds@parza.dev/westford-vpol/cap-2024-06-27T14-00-00\n",
                        "\t2aa82596-9b02-4cbd-933b-a9597990bdcd: rf@1719499740.000.h5 in /files/sds@parza.dev/westford-vpol/cap-2024-06-27T14-00-00/2024-06-27T14-00-00\n",
                        "\tac2bbd82-786b-4173-a918-34869c897284: rf@1719499740.125.h5 in /files/sds@parza.dev/westford-vpol/cap-2024-06-27T14-00-00/2024-06-27T14-00-00\n",
                        "\te2fb3490-f15d-4ccd-8511-90316e3425c1: rf@1719499740.250.h5 in /files/sds@parza.dev/westford-vpol/cap-2024-06-27T14-00-00/2024-06-27T14-00-00\n",
                        "\te38ecb28-2855-42f7-b2ab-28ced3691914: rf@1719499740.375.h5 in /files/sds@parza.dev/westford-vpol/cap-2024-06-27T14-00-00/2024-06-27T14-00-00\n",
                        "\t967ffd61-097b-4491-8dbf-6d915152fd32: rf@1719499740.500.h5 in /files/sds@parza.dev/westford-vpol/cap-2024-06-27T14-00-00/2024-06-27T14-00-00\n",
                        "\te427952c-a402-4d83-bd39-979a720eea65: rf@1719499740.625.h5 in /files/sds@parza.dev/westford-vpol/cap-2024-06-27T14-00-00/2024-06-27T14-00-00\n",
                        "\tf03b3477-3b1e-40f1-bc5c-d2e0e381dfa2: rf@1719499740.750.h5 in /files/sds@parza.dev/westford-vpol/cap-2024-06-27T14-00-00/2024-06-27T14-00-00\n",
                        "\t0a574fbd-a857-4511-b411-e54af1782698: rf@1719499740.875.h5 in /files/sds@parza.dev/westford-vpol/cap-2024-06-27T14-00-00/2024-06-27T14-00-00\n",
                        "\t51ccbc22-c8fa-4bd7-9e1c-e53c76bfece5: rf@1719499741.000.h5 in /files/sds@parza.dev/westford-vpol/cap-2024-06-27T14-00-00/2024-06-27T14-00-00\n",
                        "\tcc104469-3b7c-4eea-b5bc-4c4f0da838c5: rf@1719499741.125.h5 in /files/sds@parza.dev/westford-vpol/cap-2024-06-27T14-00-00/2024-06-27T14-00-00\n",
                        "\t9696974f-21b8-4ee4-826e-2673dd6eb372: rf@1719499741.250.h5 in /files/sds@parza.dev/westford-vpol/cap-2024-06-27T14-00-00/2024-06-27T14-00-00\n",
                        "\tec391eab-ceac-4887-971f-910436098b08: rf@1719499741.375.h5 in /files/sds@parza.dev/westford-vpol/cap-2024-06-27T14-00-00/2024-06-27T14-00-00\n",
                        "\t20e48c16-b64b-470f-8c38-5ba6f4362ba9: rf@1719499741.500.h5 in /files/sds@parza.dev/westford-vpol/cap-2024-06-27T14-00-00/2024-06-27T14-00-00\n",
                        "\te9dd88b5-8ae0-47e6-9540-d16b8e85f62b: rf@1719499741.625.h5 in /files/sds@parza.dev/westford-vpol/cap-2024-06-27T14-00-00/2024-06-27T14-00-00\n",
                        "\t66986897-9aff-4ede-952b-2b6aaeda55fc: rf@1719499741.750.h5 in /files/sds@parza.dev/westford-vpol/cap-2024-06-27T14-00-00/2024-06-27T14-00-00\n",
                        "\t2005c75b-d2d0-4a70-aa02-947c275d54ab: rf@1719499741.875.h5 in /files/sds@parza.dev/westford-vpol/cap-2024-06-27T14-00-00/2024-06-27T14-00-00\n",
                        "\t802dbf4d-cc66-4234-9588-e6d0f44b8e66: dmd_properties.h5 in /files/sds@parza.dev/westford-vpol/cap-2024-06-27T14-00-00/metadata\n"
                    ]
                }
            ],
            "source": [
                "from uuid import UUID\n",
                "\n",
                "if cap_list:\n",
                "    selected_capture: Capture = cap_list[0]\n",
                "    assert isinstance(selected_capture.uuid, UUID), (\n",
                "        \"Capture UUID should be a UUID object\"\n",
                "    )\n",
                "    selected_capture = sds.captures.read(capture_uuid=selected_capture.uuid)\n",
                "    for cap_file in selected_capture.files:\n",
                "        # print file UUID and name using an f-string for clarity\n",
                "        print(f\"\\t{cap_file.uuid}: {cap_file.name} in {cap_file.directory}\")\n",
                "else:\n",
                "    print(\"No captures available to read.\")\n"
            ]
        }
    ],
    "metadata": {
        "kernelspec": {
            "display_name": ".venv",
            "language": "python",
            "name": "python3"
        },
        "language_info": {
            "codemirror_mode": {
                "name": "ipython",
                "version": 3
            },
            "file_extension": ".py",
            "mimetype": "text/x-python",
            "name": "python",
            "nbconvert_exporter": "python",
            "pygments_lexer": "ipython3",
            "version": "3.13.3"
        }
    },
    "nbformat": 4,
    "nbformat_minor": 2
}
